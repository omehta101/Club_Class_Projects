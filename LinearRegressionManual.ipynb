{
 "cells": [
  {
   "cell_type": "code",
   "execution_count": null,
   "id": "985506c6",
   "metadata": {},
   "outputs": [],
   "source": [
    "import numpy as np\n",
    "\n",
    "class LinearRegression:\n",
    "    def __init__(self, learning_rate=0.01, num_iterations=1000):\n",
    "        self.learning_rate = learning_rate\n",
    "        self.num_iterations = num_iterations\n",
    "        self.weights = None\n",
    "        self.bias = None\n",
    "\n",
    "    def fit(self, X, y):\n",
    "        num_samples, num_features = X.shape\n",
    "        # Initialize weights and bias to zeros\n",
    "        self.weights = np.zeros(num_features)\n",
    "        self.bias = 0\n",
    "\n",
    "        # Gradient Descent for optimization\n",
    "        for i in range(self.num_iterations):\n",
    "            # Linear equation: y = wx + b\n",
    "            y_predicted = np.dot(X, self.weights) + self.bias\n",
    "\n",
    "            # Calculate gradients\n",
    "            dw = (1/num_samples) * np.dot(X.T, (y_predicted - y))\n",
    "            db = (1/num_samples) * np.sum(y_predicted - y)\n",
    "\n",
    "            # Update parameters using the learning rate\n",
    "            self.weights -= self.learning_rate * dw\n",
    "            self.bias -= self.learning_rate * db\n",
    "\n",
    "    def predict(self, X):\n",
    "        y_predicted = np.dot(X, self.weights) + self.bias\n",
    "        return y_predicted\n",
    "\n",
    "# Example usage:\n",
    "if __name__ == \"__main__\":\n",
    "    # Sample data\n",
    "    X = np.array([[1, 2, 3, 4, 5]]).T\n",
    "    y = np.array([2, 4, 5, 4, 5])\n",
    "\n",
    "    # Create a LinearRegression model\n",
    "    model = LinearRegression(learning_rate=0.01, num_iterations=1000)\n",
    "\n",
    "    # Fit the model to the data\n",
    "    model.fit(X, y)\n",
    "\n",
    "    # Make predictions\n",
    "    X_test = np.array([[6]])\n",
    "    y_pred = model.predict(X_test)\n",
    "\n",
    "    print(\"Predicted y for X_test:\", y_pred)"
   ]
  }
 ],
 "metadata": {
  "kernelspec": {
   "display_name": "Python 3 (ipykernel)",
   "language": "python",
   "name": "python3"
  },
  "language_info": {
   "codemirror_mode": {
    "name": "ipython",
    "version": 3
   },
   "file_extension": ".py",
   "mimetype": "text/x-python",
   "name": "python",
   "nbconvert_exporter": "python",
   "pygments_lexer": "ipython3",
   "version": "3.9.12"
  }
 },
 "nbformat": 4,
 "nbformat_minor": 5
}
