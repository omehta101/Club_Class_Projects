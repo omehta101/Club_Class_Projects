{
 "cells": [
  {
   "cell_type": "markdown",
   "id": "1532b30e",
   "metadata": {},
   "source": [
    "# First, let's import the required libraries and create a 10x5 dataframe with random values. The first 4 columns represent the predictor values (X), and the last column represents the output values (Y)."
   ]
  },
  {
   "cell_type": "code",
   "execution_count": 1,
   "id": "7047b708",
   "metadata": {},
   "outputs": [
    {
     "data": {
      "text/html": [
       "<div>\n",
       "<style scoped>\n",
       "    .dataframe tbody tr th:only-of-type {\n",
       "        vertical-align: middle;\n",
       "    }\n",
       "\n",
       "    .dataframe tbody tr th {\n",
       "        vertical-align: top;\n",
       "    }\n",
       "\n",
       "    .dataframe thead th {\n",
       "        text-align: right;\n",
       "    }\n",
       "</style>\n",
       "<table border=\"1\" class=\"dataframe\">\n",
       "  <thead>\n",
       "    <tr style=\"text-align: right;\">\n",
       "      <th></th>\n",
       "      <th>X1</th>\n",
       "      <th>X2</th>\n",
       "      <th>X3</th>\n",
       "      <th>X4</th>\n",
       "      <th>Y</th>\n",
       "    </tr>\n",
       "  </thead>\n",
       "  <tbody>\n",
       "    <tr>\n",
       "      <th>0</th>\n",
       "      <td>0.374540</td>\n",
       "      <td>0.950714</td>\n",
       "      <td>0.731994</td>\n",
       "      <td>0.598658</td>\n",
       "      <td>0.156019</td>\n",
       "    </tr>\n",
       "    <tr>\n",
       "      <th>1</th>\n",
       "      <td>0.155995</td>\n",
       "      <td>0.058084</td>\n",
       "      <td>0.866176</td>\n",
       "      <td>0.601115</td>\n",
       "      <td>0.708073</td>\n",
       "    </tr>\n",
       "    <tr>\n",
       "      <th>2</th>\n",
       "      <td>0.020584</td>\n",
       "      <td>0.969910</td>\n",
       "      <td>0.832443</td>\n",
       "      <td>0.212339</td>\n",
       "      <td>0.181825</td>\n",
       "    </tr>\n",
       "    <tr>\n",
       "      <th>3</th>\n",
       "      <td>0.183405</td>\n",
       "      <td>0.304242</td>\n",
       "      <td>0.524756</td>\n",
       "      <td>0.431945</td>\n",
       "      <td>0.291229</td>\n",
       "    </tr>\n",
       "    <tr>\n",
       "      <th>4</th>\n",
       "      <td>0.611853</td>\n",
       "      <td>0.139494</td>\n",
       "      <td>0.292145</td>\n",
       "      <td>0.366362</td>\n",
       "      <td>0.456070</td>\n",
       "    </tr>\n",
       "    <tr>\n",
       "      <th>5</th>\n",
       "      <td>0.785176</td>\n",
       "      <td>0.199674</td>\n",
       "      <td>0.514234</td>\n",
       "      <td>0.592415</td>\n",
       "      <td>0.046450</td>\n",
       "    </tr>\n",
       "    <tr>\n",
       "      <th>6</th>\n",
       "      <td>0.607545</td>\n",
       "      <td>0.170524</td>\n",
       "      <td>0.065052</td>\n",
       "      <td>0.948886</td>\n",
       "      <td>0.965632</td>\n",
       "    </tr>\n",
       "    <tr>\n",
       "      <th>7</th>\n",
       "      <td>0.808397</td>\n",
       "      <td>0.304614</td>\n",
       "      <td>0.097672</td>\n",
       "      <td>0.684233</td>\n",
       "      <td>0.440152</td>\n",
       "    </tr>\n",
       "    <tr>\n",
       "      <th>8</th>\n",
       "      <td>0.122038</td>\n",
       "      <td>0.495177</td>\n",
       "      <td>0.034389</td>\n",
       "      <td>0.909320</td>\n",
       "      <td>0.258780</td>\n",
       "    </tr>\n",
       "    <tr>\n",
       "      <th>9</th>\n",
       "      <td>0.662522</td>\n",
       "      <td>0.311711</td>\n",
       "      <td>0.520068</td>\n",
       "      <td>0.546710</td>\n",
       "      <td>0.184854</td>\n",
       "    </tr>\n",
       "  </tbody>\n",
       "</table>\n",
       "</div>"
      ],
      "text/plain": [
       "         X1        X2        X3        X4         Y\n",
       "0  0.374540  0.950714  0.731994  0.598658  0.156019\n",
       "1  0.155995  0.058084  0.866176  0.601115  0.708073\n",
       "2  0.020584  0.969910  0.832443  0.212339  0.181825\n",
       "3  0.183405  0.304242  0.524756  0.431945  0.291229\n",
       "4  0.611853  0.139494  0.292145  0.366362  0.456070\n",
       "5  0.785176  0.199674  0.514234  0.592415  0.046450\n",
       "6  0.607545  0.170524  0.065052  0.948886  0.965632\n",
       "7  0.808397  0.304614  0.097672  0.684233  0.440152\n",
       "8  0.122038  0.495177  0.034389  0.909320  0.258780\n",
       "9  0.662522  0.311711  0.520068  0.546710  0.184854"
      ]
     },
     "execution_count": 1,
     "metadata": {},
     "output_type": "execute_result"
    }
   ],
   "source": [
    "import numpy as np\n",
    "import pandas as pd\n",
    "\n",
    "# Seed for reproducibility\n",
    "np.random.seed(42)\n",
    "\n",
    "# Create a 10x5 dataframe with random values\n",
    "data = np.random.rand(10, 5)\n",
    "df = pd.DataFrame(data, columns=[\"X1\", \"X2\", \"X3\", \"X4\", \"Y\"])\n",
    "df"
   ]
  },
  {
   "cell_type": "markdown",
   "id": "45ad6ceb",
   "metadata": {},
   "source": [
    "# Now, let's separate the predictor values (X) and the output values (Y) into two NumPy arrays."
   ]
  },
  {
   "cell_type": "code",
   "execution_count": 9,
   "id": "89b746ef",
   "metadata": {},
   "outputs": [],
   "source": [
    "# Separate predictor values (X) and output values (Y)\n",
    "X = df.iloc[:, :4].values  # First 4 columns (X1, X2, X3, X4)\n",
    "Y = df.iloc[:, 4].values   # Last column (Y)"
   ]
  },
  {
   "cell_type": "markdown",
   "id": "66337196",
   "metadata": {},
   "source": [
    "# Next, we'll calculate the matrix $X^TX$ and the regularization term  $\\lambda I$. We'll use $\\lambda = 0.1$ in this example."
   ]
  },
  {
   "cell_type": "code",
   "execution_count": 11,
   "id": "6b4c2262",
   "metadata": {},
   "outputs": [
    {
     "data": {
      "text/html": [
       "<div>\n",
       "<style scoped>\n",
       "    .dataframe tbody tr th:only-of-type {\n",
       "        vertical-align: middle;\n",
       "    }\n",
       "\n",
       "    .dataframe tbody tr th {\n",
       "        vertical-align: top;\n",
       "    }\n",
       "\n",
       "    .dataframe thead th {\n",
       "        text-align: right;\n",
       "    }\n",
       "</style>\n",
       "<table border=\"1\" class=\"dataframe\">\n",
       "  <thead>\n",
       "    <tr style=\"text-align: right;\">\n",
       "      <th></th>\n",
       "      <th>0</th>\n",
       "      <th>1</th>\n",
       "      <th>2</th>\n",
       "      <th>3</th>\n",
       "    </tr>\n",
       "  </thead>\n",
       "  <tbody>\n",
       "    <tr>\n",
       "      <th>0</th>\n",
       "      <td>0.1</td>\n",
       "      <td>0.0</td>\n",
       "      <td>0.0</td>\n",
       "      <td>0.0</td>\n",
       "    </tr>\n",
       "    <tr>\n",
       "      <th>1</th>\n",
       "      <td>0.0</td>\n",
       "      <td>0.1</td>\n",
       "      <td>0.0</td>\n",
       "      <td>0.0</td>\n",
       "    </tr>\n",
       "    <tr>\n",
       "      <th>2</th>\n",
       "      <td>0.0</td>\n",
       "      <td>0.0</td>\n",
       "      <td>0.1</td>\n",
       "      <td>0.0</td>\n",
       "    </tr>\n",
       "    <tr>\n",
       "      <th>3</th>\n",
       "      <td>0.0</td>\n",
       "      <td>0.0</td>\n",
       "      <td>0.0</td>\n",
       "      <td>0.1</td>\n",
       "    </tr>\n",
       "  </tbody>\n",
       "</table>\n",
       "</div>"
      ],
      "text/plain": [
       "     0    1    2    3\n",
       "0  0.1  0.0  0.0  0.0\n",
       "1  0.0  0.1  0.0  0.0\n",
       "2  0.0  0.0  0.1  0.0\n",
       "3  0.0  0.0  0.0  0.1"
      ]
     },
     "execution_count": 11,
     "metadata": {},
     "output_type": "execute_result"
    }
   ],
   "source": [
    "# Calculate the matrix X^T * X\n",
    "XT_X = np.matmul(X.T, X)\n",
    "\n",
    "# Calculate the regularization term lambda * I\n",
    "_lambda = 0.1\n",
    "I = np.identity(4)  # 4x4 identity matrix\n",
    "lambda_I = _lambda * I\n",
    "pd.DataFrame(lambda_I)"
   ]
  },
  {
   "cell_type": "markdown",
   "id": "c2592d0f",
   "metadata": {},
   "source": [
    "# Now, let's add the matrix $X^TX$ and the regularization term $\\lambda I$, and then calculate the inverse of the resulting matrix."
   ]
  },
  {
   "cell_type": "code",
   "execution_count": 13,
   "id": "cb33e02a",
   "metadata": {},
   "outputs": [
    {
     "data": {
      "text/html": [
       "<div>\n",
       "<style scoped>\n",
       "    .dataframe tbody tr th:only-of-type {\n",
       "        vertical-align: middle;\n",
       "    }\n",
       "\n",
       "    .dataframe tbody tr th {\n",
       "        vertical-align: top;\n",
       "    }\n",
       "\n",
       "    .dataframe thead th {\n",
       "        text-align: right;\n",
       "    }\n",
       "</style>\n",
       "<table border=\"1\" class=\"dataframe\">\n",
       "  <thead>\n",
       "    <tr style=\"text-align: right;\">\n",
       "      <th></th>\n",
       "      <th>0</th>\n",
       "      <th>1</th>\n",
       "      <th>2</th>\n",
       "      <th>3</th>\n",
       "    </tr>\n",
       "  </thead>\n",
       "  <tbody>\n",
       "    <tr>\n",
       "      <th>0</th>\n",
       "      <td>2.765987</td>\n",
       "      <td>1.299831</td>\n",
       "      <td>1.572405</td>\n",
       "      <td>2.693695</td>\n",
       "    </tr>\n",
       "    <tr>\n",
       "      <th>1</th>\n",
       "      <td>1.299831</td>\n",
       "      <td>2.564080</td>\n",
       "      <td>2.076691</td>\n",
       "      <td>2.101754</td>\n",
       "    </tr>\n",
       "    <tr>\n",
       "      <th>2</th>\n",
       "      <td>1.572405</td>\n",
       "      <td>2.076691</td>\n",
       "      <td>2.989617</td>\n",
       "      <td>2.218136</td>\n",
       "    </tr>\n",
       "    <tr>\n",
       "      <th>3</th>\n",
       "      <td>2.693695</td>\n",
       "      <td>2.101754</td>\n",
       "      <td>2.218136</td>\n",
       "      <td>4.030886</td>\n",
       "    </tr>\n",
       "  </tbody>\n",
       "</table>\n",
       "</div>"
      ],
      "text/plain": [
       "          0         1         2         3\n",
       "0  2.765987  1.299831  1.572405  2.693695\n",
       "1  1.299831  2.564080  2.076691  2.101754\n",
       "2  1.572405  2.076691  2.989617  2.218136\n",
       "3  2.693695  2.101754  2.218136  4.030886"
      ]
     },
     "execution_count": 13,
     "metadata": {},
     "output_type": "execute_result"
    }
   ],
   "source": [
    "# Add the matrix X^T * X and the regularization term lambda * I\n",
    "XT_X_lambda_I = XT_X + lambda_I\n",
    "\n",
    "# Calculate the inverse of the resulting matrix\n",
    "inv_XT_X_lambda_I = np.linalg.inv(XT_X_lambda_I)\n",
    "pd.DataFrame(XT_X_lambda_I)"
   ]
  },
  {
   "cell_type": "markdown",
   "id": "f20c9ba5",
   "metadata": {},
   "source": [
    "# Next, we'll calculate the matrix $X^TY$."
   ]
  },
  {
   "cell_type": "code",
   "execution_count": 5,
   "id": "aea8b30a",
   "metadata": {},
   "outputs": [],
   "source": [
    "# Calculate the matrix X^T * Y\n",
    "XT_Y = np.matmul(X.T, Y)"
   ]
  },
  {
   "cell_type": "markdown",
   "id": "0dbeff12",
   "metadata": {},
   "source": [
    "# Finally, let's calculate the ridge regression coefficients $\\hat{\\beta}$ by multiplying the inverse matrix from the previous step by the matrix $X^TY$."
   ]
  },
  {
   "cell_type": "code",
   "execution_count": 6,
   "id": "ab9bc22f",
   "metadata": {},
   "outputs": [
    {
     "data": {
      "text/plain": [
       "array([-0.03654932, -0.29677872,  0.19096687,  0.677389  ])"
      ]
     },
     "execution_count": 6,
     "metadata": {},
     "output_type": "execute_result"
    }
   ],
   "source": [
    "# Calculate the ridge regression coefficients (Beta_hat)\n",
    "Beta_hat = np.matmul(inv_XT_X_lambda_I, XT_Y)\n",
    "Beta_hat"
   ]
  },
  {
   "cell_type": "markdown",
   "id": "51c9d7a7",
   "metadata": {},
   "source": [
    "# Now, we have the ridge regression coefficients $\\hat{\\beta}$ for each predictor in our example dataframe. These coefficients can be used to create a model that can predict the output values $Y$ based on the predictor values $X$.\n",
    "\n",
    "## Let's try using Scikit-learn to do this"
   ]
  },
  {
   "cell_type": "code",
   "execution_count": 15,
   "id": "23eb8eb6",
   "metadata": {},
   "outputs": [
    {
     "name": "stderr",
     "output_type": "stream",
     "text": [
      "/Users/ommehta/anaconda3/lib/python3.9/site-packages/sklearn/linear_model/_base.py:148: FutureWarning: 'normalize' was deprecated in version 1.0 and will be removed in 1.2. Please leave the normalize parameter to its default value to silence this warning. The default behavior of this estimator is to not do any normalization. If normalization is needed please use sklearn.preprocessing.StandardScaler instead.\n",
      "  warnings.warn(\n"
     ]
    },
    {
     "data": {
      "text/plain": [
       "array([-0.21255822, -0.41107767, -0.06072781,  0.32377762])"
      ]
     },
     "execution_count": 15,
     "metadata": {},
     "output_type": "execute_result"
    }
   ],
   "source": [
    "from sklearn.linear_model import Ridge\n",
    "\n",
    "# Create a Ridge regression model with alpha (lambda) = 0.1\n",
    "ridge_model = Ridge(alpha=0.1, normalize = False)\n",
    "\n",
    "# Fit the model to the data (X and Y)\n",
    "ridge_model.fit(X, Y)\n",
    "\n",
    "# Obtain the coefficients (Beta_hat)\n",
    "ridge_model.coef_"
   ]
  }
 ],
 "metadata": {
  "kernelspec": {
   "display_name": "Python 3 (ipykernel)",
   "language": "python",
   "name": "python3"
  },
  "language_info": {
   "codemirror_mode": {
    "name": "ipython",
    "version": 3
   },
   "file_extension": ".py",
   "mimetype": "text/x-python",
   "name": "python",
   "nbconvert_exporter": "python",
   "pygments_lexer": "ipython3",
   "version": "3.9.12"
  }
 },
 "nbformat": 4,
 "nbformat_minor": 5
}
