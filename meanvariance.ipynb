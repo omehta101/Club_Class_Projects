{
 "cells": [
  {
   "cell_type": "markdown",
   "metadata": {},
   "source": [
    "## Mean Variance Portfolio Optimization"
   ]
  },
  {
   "cell_type": "markdown",
   "metadata": {},
   "source": [
    "For today's project, you will all learn several ways to optimize the returns and volatility of your own portfolios. Say I have a portfolio with 3 assets -> [\"AAPL\", \"JPM\", \"DIS\"]. I have $1000 to invest.\n",
    "\n",
    "I want to figure out how much of my $1000 I should be allocating to each of these 3 assets to maximize my returns and minimize my risk. This is a very easy way to improve your own stock trading portfolios and while the math may be too complex for the purposes of today, we can walk through some of the easier bits of code for it, and I will provide you with the formulas needed to implement this.\n",
    "\n",
    "Example Solution: [0.34, 0.19, 0.47] -> invest 34% in AAPL, 19% in JP Morgan, 47% in Disney\n",
    "\n",
    "Example Solution: [0.67, 0.53, -0.2] -> invest 67% in AAPL, 53% in JP Morgan, Short 20% Disney"
   ]
  },
  {
   "cell_type": "markdown",
   "metadata": {},
   "source": [
    "### Minimum Variance Solution"
   ]
  },
  {
   "cell_type": "markdown",
   "metadata": {},
   "source": [
    "$$\n",
    "\\frac{\n",
    "    \\Sigma^{-1}\n",
    "    *\n",
    "    \\begin{bmatrix}\n",
    "    1  \\\\\n",
    "    1  \\\\\n",
    "    1  \\\\\n",
    "    \\end{bmatrix}\n",
    "}{\n",
    "    \\begin{bmatrix}\n",
    "    1 & 1 & 1\n",
    "    \\end{bmatrix}\n",
    "    *\n",
    "    \\Sigma^{-1}\n",
    "    *\n",
    "    \\begin{bmatrix}\n",
    "    1  \\\\\n",
    "    1  \\\\\n",
    "    1  \\\\\n",
    "    \\end{bmatrix}\n",
    "}=\n",
    "\\begin{bmatrix}\n",
    "W_{_{AAPL}}  \\\\\n",
    "W_{_{JMP}}  \\\\\n",
    "W_{_{DIS}}  \\\\\n",
    "\\end{bmatrix}$$"
   ]
  },
  {
   "cell_type": "markdown",
   "metadata": {},
   "source": [
    "Where $\\Sigma^{-1}$ is the inverse of the covariance matrix, and the matrix of 1s has n elements, where n is the number of assets.\n",
    "\n",
    "Your job is to create a function that generates the optimal weights to minimize the portfolio's variance. How would you get the necessary values in Python and how would you do the matrix algebra in Python?"
   ]
  },
  {
   "cell_type": "code",
   "execution_count": 1,
   "metadata": {},
   "outputs": [],
   "source": [
    "import yfinance as yf\n",
    "import numpy as np"
   ]
  },
  {
   "cell_type": "code",
   "execution_count": 2,
   "metadata": {},
   "outputs": [
    {
     "data": {
      "text/plain": [
       "array([0.2278834 , 0.13070729, 0.64140931])"
      ]
     },
     "execution_count": 2,
     "metadata": {},
     "output_type": "execute_result"
    }
   ],
   "source": [
    "myPortfolio = [\"AAPL\", \"JPM\", \"DIS\"]\n",
    "\n",
    "def MinVarWeights(tickers: list):\n",
    "    data = yf.download(myPortfolio, '2022-01-01', '2023-03-01', progress=False)['Adj Close'].pct_change().dropna()\n",
    "    cov = data.cov()\n",
    "    inv = np.linalg.inv(cov)\n",
    "    ones = np.ones(len(myPortfolio))\n",
    "    minvar = (np.dot(inv, ones))/(np.dot(np.dot(ones.T, inv), ones))\n",
    "    return minvar\n",
    "MinVarWeights(myPortfolio)"
   ]
  },
  {
   "cell_type": "code",
   "execution_count": 18,
   "metadata": {},
   "outputs": [
    {
     "data": {
      "text/plain": [
       "array([[0.6875]])"
      ]
     },
     "execution_count": 18,
     "metadata": {},
     "output_type": "execute_result"
    }
   ],
   "source": [
    "sig = np.array([[2, 0], [0, 1]])\n",
    "gmv = np.array([[0.33], [0.67]])\n",
    "sr = np.array([[0.25], [0.75]])\n",
    "\n",
    "np.dot(np.dot(sr.T, sig), sr)"
   ]
  }
 ],
 "metadata": {
  "kernelspec": {
   "display_name": "Python 3 (ipykernel)",
   "language": "python",
   "name": "python3"
  },
  "language_info": {
   "codemirror_mode": {
    "name": "ipython",
    "version": 3
   },
   "file_extension": ".py",
   "mimetype": "text/x-python",
   "name": "python",
   "nbconvert_exporter": "python",
   "pygments_lexer": "ipython3",
   "version": "3.9.12"
  }
 },
 "nbformat": 4,
 "nbformat_minor": 2
}
