{
 "cells": [
  {
   "cell_type": "markdown",
   "metadata": {},
   "source": [
    "## **For today's meeting, we're going to get a little creative and learn how to apply the common stock analysis techniques on different markets. In the past, we often look at the S&P 500 as the benchmark market, and then compare stocks from the US Equity Market against it.**\n",
    "\n",
    "## We're going to analyze the NASDAQ as our benchmark market since it typically holds most of the tech stocks. Its ticker symbol is __^IXIC__\n",
    "## First, we're going to locate the 5 largest stocks in the NASDAQ based on Market Cap so that we are only analyzing those stocks"
   ]
  },
  {
   "cell_type": "code",
   "execution_count": 12,
   "metadata": {},
   "outputs": [
    {
     "name": "stdout",
     "output_type": "stream",
     "text": [
      "error on ADS\n",
      "error on ALXN\n",
      "error on CERN\n",
      "error on CTRP\n",
      "error on CTXS\n",
      "error on ESRX\n",
      "error on FB\n",
      "error on MXIM\n",
      "error on MYL\n",
      "error on SYMC\n",
      "error on XLNX\n"
     ]
    },
    {
     "ename": "AttributeError",
     "evalue": "'dict' object has no attribute 'sort'",
     "output_type": "error",
     "traceback": [
      "\u001b[0;31m---------------------------------------------------------------------------\u001b[0m",
      "\u001b[0;31mAttributeError\u001b[0m                            Traceback (most recent call last)",
      "Input \u001b[0;32mIn [12]\u001b[0m, in \u001b[0;36m<cell line: 11>\u001b[0;34m()\u001b[0m\n\u001b[1;32m      9\u001b[0m         \u001b[38;5;28mprint\u001b[39m(\u001b[38;5;124m'\u001b[39m\u001b[38;5;124merror on\u001b[39m\u001b[38;5;124m'\u001b[39m, stock)\n\u001b[1;32m     10\u001b[0m         \u001b[38;5;28;01mcontinue\u001b[39;00m\n\u001b[0;32m---> 11\u001b[0m market_caps \u001b[38;5;241m=\u001b[39m \u001b[43mmarket_caps\u001b[49m\u001b[38;5;241;43m.\u001b[39;49m\u001b[43msort\u001b[49m()\n\u001b[1;32m     12\u001b[0m market_caps\n",
      "\u001b[0;31mAttributeError\u001b[0m: 'dict' object has no attribute 'sort'"
     ]
    }
   ],
   "source": [
    "from pandas_datareader import data\n",
    "ixic = [\"AAPL\", \"ADBE\", \"ADI\", \"ADSK\", \"ADP\", \"ADS\", \"ALGN\", \"ALXN\", \"AMAT\", \"AMD\", \"AMGN\", \"AMZN\", \"ANSS\", \"ASML\", \"ATVI\", \"AVGO\", \"BIDU\", \"BIIB\", \"BKNG\", \"BMRN\", \"CDNS\", \"CDW\", \"CERN\",\"CHKP\", \"CHTR\", \"CMCSA\", \"COST\", \"CSCO\", \"CSX\", \"CTAS\", \"CTRP\", \"CTSH\", \"CTXS\", \"DLTR\", \"EA\", \"EBAY\", \"ESRX\", \"EXPE\", \"FAST\", \"FB\", \"FISV\", \"FOXA\", \"GILD\", \"GOOG\", \"GOOGL\", \"HAS\", \"HSIC\", \"IDXX\", \"ILMN\", \"INCY\", \"INTC\", \"INTU\", \"ISRG\", \"JD\", \"KHC\", \"KLAC\", \"LBTYA\", \"LBTYK\", \"LRCX\", \"MAR\", \"MAT\", \"MCHP\", \"MDLZ\", \"MELI\", \"MNST\", \"MSFT\", \"MU\", \"MXIM\", \"MYL\", \"NCLH\", \"NFLX\", \"NTES\", \"NVDA\", \"ORLY\", \"PAYX\", \"PCAR\", \"PYPL\", \"QCOM\", \"QRVO\", \"REGN\", \"ROST\", \"SBUX\", \"SIRI\", \"SNPS\", \"SPLK\", \"SWKS\", \"SYMC\", \"TMUS\", \"TSLA\", \"TTWO\", \"TXN\", \"ULTA\", \"VRSK\", \"VRSN\", \"VRTX\", \"WBA\", \"WDC\", \"WYNN\", \"XLNX\"]\n",
    "market_caps = {}\n",
    "for stock in ixic:\n",
    "    try:\n",
    "        mcap = data.get_quote_yahoo(stock)['marketCap'].values[0]\n",
    "        market_caps[stock] = mcap\n",
    "    except:\n",
    "        print('error on', stock)\n",
    "        continue"
   ]
  },
  {
   "cell_type": "code",
   "execution_count": 42,
   "metadata": {},
   "outputs": [
    {
     "data": {
      "text/plain": [
       "['AAPL', 'AMZN', 'GOOG', 'MSFT', 'TSLA']"
      ]
     },
     "execution_count": 42,
     "metadata": {},
     "output_type": "execute_result"
    }
   ],
   "source": [
    "market_caps_values = sorted(list(market_caps.values()))\n",
    "market_caps_values = market_caps_values[-6:]\n",
    "biggest_5 = []\n",
    "for stock in market_caps:\n",
    "    if market_caps[stock] in market_caps_values:\n",
    "        biggest_5.append(stock)\n",
    "        \n",
    "biggest_5.remove('GOOGL')\n",
    "biggest_5"
   ]
  },
  {
   "cell_type": "code",
   "execution_count": 8,
   "metadata": {},
   "outputs": [
    {
     "name": "stdout",
     "output_type": "stream",
     "text": [
      "AAPL    2434199453696\n",
      "Name: marketCap, dtype: int64\n"
     ]
    }
   ],
   "source": [
    "from pandas_datareader import data\n",
    "\n",
    "# Example of how to get Market Cap from yahoo\n",
    "x = data.get_quote_yahoo(\"AAPL\")['marketCap']\n",
    "print(x.values[0])"
   ]
  },
  {
   "cell_type": "markdown",
   "metadata": {},
   "source": [
    "Once we have the top 5 stocks, let's add them to a list of stocks we want to analyze. Let's get 5 years of data for all 5 stocks and the benchmark index."
   ]
  },
  {
   "cell_type": "code",
   "execution_count": 2,
   "metadata": {},
   "outputs": [],
   "source": [
    "import pandas as pd\n",
    "import yfinance as yf\n",
    "import numpy as np"
   ]
  },
  {
   "cell_type": "code",
   "execution_count": null,
   "metadata": {},
   "outputs": [],
   "source": [
    "myStocks = [\"^IXIC\"]"
   ]
  },
  {
   "cell_type": "markdown",
   "metadata": {},
   "source": [
    "First thing we're going to do is write a function that normalizes the prices. This is a function I have saved in my personal python functions and is very useful for comparing the trend of stocks with very different prices."
   ]
  },
  {
   "cell_type": "code",
   "execution_count": 3,
   "metadata": {},
   "outputs": [],
   "source": [
    "def normalizePrices(df : pd.DataFrame) -> pd.DataFrame:\n",
    "    \"\"\"\n",
    "    Return a dataframe with normalized prices\n",
    "    \"\"\"\n",
    "    return"
   ]
  },
  {
   "cell_type": "markdown",
   "metadata": {},
   "source": [
    "<style>\n",
    "    .container {\n",
    "        width: 90% !important;\n",
    "    }\n",
    "</style>\n"
   ]
  }
 ],
 "metadata": {
  "kernelspec": {
   "display_name": "Python 3 (ipykernel)",
   "language": "python",
   "name": "python3"
  },
  "language_info": {
   "codemirror_mode": {
    "name": "ipython",
    "version": 3
   },
   "file_extension": ".py",
   "mimetype": "text/x-python",
   "name": "python",
   "nbconvert_exporter": "python",
   "pygments_lexer": "ipython3",
   "version": "3.9.12"
  },
  "vscode": {
   "interpreter": {
    "hash": "0a919239ad2c6e081ef1eb7db2c563842eaac4a7530bfeb5695ac77791336908"
   }
  }
 },
 "nbformat": 4,
 "nbformat_minor": 2
}
