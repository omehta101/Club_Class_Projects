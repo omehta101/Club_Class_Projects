{
 "cells": [
  {
   "cell_type": "markdown",
   "id": "d0d631ee",
   "metadata": {},
   "source": [
    "# Problem 4"
   ]
  },
  {
   "cell_type": "markdown",
   "id": "014ecbb2",
   "metadata": {},
   "source": [
    "## $\\color{blue}{\\text{1. Forward Contracts}}$"
   ]
  },
  {
   "cell_type": "markdown",
   "id": "8d156075",
   "metadata": {},
   "source": [
    "### We say that a model is arbitrage-free if it is mathematically impossible to make a risk free profit. In the case of a forward contract, this means that the present value of going long or going short the forward contract from delivery or receipt at $t=1$, at $t=0$, should both be equal.\n",
    "### Let's examine this further using the given equation $(7): F(0,1)=S(0)(1+R_F)$"
   ]
  },
  {
   "cell_type": "markdown",
   "id": "777002cd",
   "metadata": {},
   "source": [
    "### Case 1: Entering a long position. \n",
    "### $$S(0)=\\frac{F(0,1)}{1+R_F}$$"
   ]
  },
  {
   "cell_type": "markdown",
   "id": "aeeaf5b1",
   "metadata": {},
   "source": [
    "### Case 2: Entering a short position\n",
    "### $$S(0)=\\frac{F(0,1)}{1+R_F}$$"
   ]
  },
  {
   "cell_type": "markdown",
   "id": "7e75a89f",
   "metadata": {},
   "source": [
    "### Based on either scenario, we can say that the value of this contract is *value neutral* at $t=0$, meaning it should not (and it doesn't) cost anything to enter this trade at $t=0$, no matter which way the investor is betting on."
   ]
  },
  {
   "cell_type": "markdown",
   "id": "91a545e0",
   "metadata": {},
   "source": [
    "## $\\color{blue}{\\text{2. Expected Value of $S_T$}}$"
   ]
  },
  {
   "cell_type": "markdown",
   "id": "987c2214",
   "metadata": {},
   "source": [
    "### Given that $\\mathbb{E}^\\mathbb{Q}[R_S]=R_F$, and  $\\mathbb{E}[S_T]=S(0)E[1+R_S]$ we can say that the expected value of the stock in one month under the risk neutral probability is indeed $S(0)(1+R_F)$."
   ]
  },
  {
   "cell_type": "markdown",
   "id": "ccf6293a",
   "metadata": {},
   "source": [
    "## $\\color{blue}{\\text{3. Portfolio Value in the case of the outcome with $\\pi$ probability outcome vs. $1-\\pi$}}$"
   ]
  },
  {
   "cell_type": "markdown",
   "id": "a47432ed",
   "metadata": {},
   "source": [
    "$$\\large V(1) = \\begin{cases}\n",
    "S(0)u - S(0)(1+R_F) & \\pi \\\\\n",
    "S(0)d - S(0)(1+R_F) & 1-\\pi\n",
    "\\end{cases}$$"
   ]
  },
  {
   "cell_type": "markdown",
   "id": "ebd93f5a",
   "metadata": {},
   "source": [
    "### This position breaks even when the up factor $u=1+R_F$.\n",
    "$$\n",
    "\\large\n",
    "V(1)_\\pi = S(0)(1+R_F)-S(0)(1+R_F) = 0\n",
    "$$"
   ]
  },
  {
   "cell_type": "markdown",
   "id": "1751ce3c",
   "metadata": {},
   "source": [
    "## $\\color{blue}{\\text{4. Arbitrage Opportunities}}$"
   ]
  },
  {
   "cell_type": "markdown",
   "id": "7174be91",
   "metadata": {},
   "source": [
    "### When $F(0,1)=104$, there is no arbitrage opportunity."
   ]
  },
  {
   "cell_type": "markdown",
   "id": "74fbd5ae",
   "metadata": {},
   "source": [
    "### When $F(0,1)=105$, you would buy the spot for $\\$100$ dollars at $t=0$ with borrowed cash. At the same time, you would short the future. Therefore, at $t=1$, you pay back $\\$104$  from the accrued interest and gain $\\$105$ from the short position. This results in a risk-free $\\$1$ profit."
   ]
  },
  {
   "cell_type": "markdown",
   "id": "f33863e2",
   "metadata": {},
   "source": [
    "### When $F(0,1)=103$, you would short the spot and gain $\\$100$ at $t=0$. At the same time, you would invest these proceeds and gain the 4% until $t=1$. Also, you would long the futures contract to cover your short. So at $t=1$, you cover the short by paying $\\$103$, and gain a risk-free $\\$1$ profit. "
   ]
  },
  {
   "cell_type": "code",
   "execution_count": 5,
   "id": "d08fdfd1",
   "metadata": {},
   "outputs": [],
   "source": [
    "i = 0.5*1200*(25**2) + 0.5*9000*(20**2)"
   ]
  },
  {
   "cell_type": "code",
   "execution_count": 7,
   "id": "a7e69929",
   "metadata": {},
   "outputs": [],
   "source": [
    "f1 = 0.5*1200*(18**2) + 0.5*9000*(20.93**2)"
   ]
  },
  {
   "cell_type": "code",
   "execution_count": 10,
   "id": "f18c3f68",
   "metadata": {},
   "outputs": [
    {
     "data": {
      "text/plain": [
       "9307.950000000186"
      ]
     },
     "execution_count": 10,
     "metadata": {},
     "output_type": "execute_result"
    }
   ],
   "source": []
  }
 ],
 "metadata": {
  "kernelspec": {
   "display_name": "Python 3 (ipykernel)",
   "language": "python",
   "name": "python3"
  },
  "language_info": {
   "codemirror_mode": {
    "name": "ipython",
    "version": 3
   },
   "file_extension": ".py",
   "mimetype": "text/x-python",
   "name": "python",
   "nbconvert_exporter": "python",
   "pygments_lexer": "ipython3",
   "version": "3.9.12"
  }
 },
 "nbformat": 4,
 "nbformat_minor": 5
}
